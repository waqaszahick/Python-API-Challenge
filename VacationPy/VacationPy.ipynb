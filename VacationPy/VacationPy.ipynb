{
 "cells": [
  {
   "cell_type": "markdown",
   "metadata": {},
   "source": [
    "# Part-II: VacationPy"
   ]
  },
  {
   "cell_type": "code",
   "execution_count": 1,
   "metadata": {},
   "outputs": [],
   "source": [
    "# Dependencies and Setup\n",
    "from IPython.display import display\n",
    "import matplotlib.pyplot as plt\n",
    "import scipy.stats as st\n",
    "import pandas as pd\n",
    "import numpy as np\n",
    "import requests\n",
    "import gmaps\n",
    "import os\n",
    "\n",
    "from ipywidgets.embed import embed_minimal_html\n",
    "\n",
    "# Import 'API' and 'G' Keys\n",
    "from config import gkey\n",
    "from config import (api_key)\n",
    "\n",
    "# Configure 'G' Key\n",
    "gmaps.configure(api_key = gkey)"
   ]
  },
  {
   "cell_type": "markdown",
   "metadata": {},
   "source": [
    "### Store Part-I results into DataFrame\n",
    "* Load the CSV that was exported in Part-I, to a DataFrame"
   ]
  },
  {
   "cell_type": "code",
   "execution_count": 2,
   "metadata": {
    "scrolled": true
   },
   "outputs": [
    {
     "data": {
      "application/vnd.jupyter.widget-view+json": {
       "model_id": "f35636db95ca46dc89f772e1220f7cc4",
       "version_major": 2,
       "version_minor": 0
      },
      "text/plain": [
       "Figure(layout=FigureLayout(height='420px'))"
      ]
     },
     "metadata": {},
     "output_type": "display_data"
    }
   ],
   "source": [
    "# Dependencies and Setup\n",
    "pro_dir = ''\n",
    "\n",
    "cities_path = \"../selected_cities/selected_cities.csv\"\n",
    "\n",
    "# Read the 'Cities' data that we just stored in a CSV file\n",
    "cities_data = pd.read_csv(pro_dir + cities_path)\n",
    "\n",
    "locations = cities_data[['Latitude', 'Longitude']]\n",
    "hum_weights = cities_data['Humidity (%)']\n",
    "fig = gmaps.figure(display_toolbar = True, center = (0.0, 0.0), display_errors = True, zoom_level = 1)\n",
    "fig.add_layer(gmaps.heatmap_layer(locations, weights = hum_weights))\n",
    "embed_minimal_html(\"maps/map1.html\", views = [fig])\n",
    "fig"
   ]
  },
  {
   "cell_type": "markdown",
   "metadata": {},
   "source": [
    "### Humidity Heatmap\n",
    "* Configure gmaps.\n",
    "* Use the Lat and Lng as locations and Humidity as the weight.\n",
    "* Add Heatmap layer to map."
   ]
  },
  {
   "cell_type": "code",
   "execution_count": 3,
   "metadata": {},
   "outputs": [
    {
     "data": {
      "text/html": [
       "<div>\n",
       "<style scoped>\n",
       "    .dataframe tbody tr th:only-of-type {\n",
       "        vertical-align: middle;\n",
       "    }\n",
       "\n",
       "    .dataframe tbody tr th {\n",
       "        vertical-align: top;\n",
       "    }\n",
       "\n",
       "    .dataframe thead th {\n",
       "        text-align: right;\n",
       "    }\n",
       "</style>\n",
       "<table border=\"1\" class=\"dataframe\">\n",
       "  <thead>\n",
       "    <tr style=\"text-align: right;\">\n",
       "      <th></th>\n",
       "      <th>City Name</th>\n",
       "      <th>Latitude</th>\n",
       "      <th>Longitude</th>\n",
       "      <th>Temperature (F)</th>\n",
       "      <th>Max. Temp (F)</th>\n",
       "      <th>Min. Temp (F)</th>\n",
       "      <th>Humidity (%)</th>\n",
       "      <th>Cloudiness (%)</th>\n",
       "      <th>Wind Speed (mph)</th>\n",
       "      <th>Country Code</th>\n",
       "      <th>Date &amp; Time</th>\n",
       "    </tr>\n",
       "  </thead>\n",
       "  <tbody>\n",
       "    <tr>\n",
       "      <th>41</th>\n",
       "      <td>caravelas</td>\n",
       "      <td>-17.7125</td>\n",
       "      <td>-39.2481</td>\n",
       "      <td>72.21</td>\n",
       "      <td>72.21</td>\n",
       "      <td>72.21</td>\n",
       "      <td>90</td>\n",
       "      <td>0</td>\n",
       "      <td>2.01</td>\n",
       "      <td>BR</td>\n",
       "      <td>14-01-2021 17:37:17</td>\n",
       "    </tr>\n",
       "    <tr>\n",
       "      <th>130</th>\n",
       "      <td>cape town</td>\n",
       "      <td>-33.9258</td>\n",
       "      <td>18.4232</td>\n",
       "      <td>73.58</td>\n",
       "      <td>75.99</td>\n",
       "      <td>71.01</td>\n",
       "      <td>73</td>\n",
       "      <td>0</td>\n",
       "      <td>4.61</td>\n",
       "      <td>ZA</td>\n",
       "      <td>14-01-2021 17:25:42</td>\n",
       "    </tr>\n",
       "    <tr>\n",
       "      <th>239</th>\n",
       "      <td>nizwa</td>\n",
       "      <td>22.9333</td>\n",
       "      <td>57.5333</td>\n",
       "      <td>74.84</td>\n",
       "      <td>74.84</td>\n",
       "      <td>74.84</td>\n",
       "      <td>19</td>\n",
       "      <td>0</td>\n",
       "      <td>5.26</td>\n",
       "      <td>OM</td>\n",
       "      <td>14-01-2021 17:41:43</td>\n",
       "    </tr>\n",
       "    <tr>\n",
       "      <th>300</th>\n",
       "      <td>wellington</td>\n",
       "      <td>-41.2866</td>\n",
       "      <td>174.7756</td>\n",
       "      <td>67.33</td>\n",
       "      <td>71.01</td>\n",
       "      <td>66.00</td>\n",
       "      <td>77</td>\n",
       "      <td>0</td>\n",
       "      <td>8.05</td>\n",
       "      <td>NZ</td>\n",
       "      <td>14-01-2021 17:43:08</td>\n",
       "    </tr>\n",
       "    <tr>\n",
       "      <th>384</th>\n",
       "      <td>ouadda</td>\n",
       "      <td>8.0777</td>\n",
       "      <td>22.4007</td>\n",
       "      <td>79.30</td>\n",
       "      <td>79.30</td>\n",
       "      <td>79.30</td>\n",
       "      <td>20</td>\n",
       "      <td>0</td>\n",
       "      <td>5.95</td>\n",
       "      <td>CF</td>\n",
       "      <td>14-01-2021 17:45:08</td>\n",
       "    </tr>\n",
       "    <tr>\n",
       "      <th>461</th>\n",
       "      <td>sur</td>\n",
       "      <td>22.5667</td>\n",
       "      <td>59.5289</td>\n",
       "      <td>74.73</td>\n",
       "      <td>74.73</td>\n",
       "      <td>74.73</td>\n",
       "      <td>44</td>\n",
       "      <td>0</td>\n",
       "      <td>8.03</td>\n",
       "      <td>OM</td>\n",
       "      <td>14-01-2021 17:46:52</td>\n",
       "    </tr>\n",
       "  </tbody>\n",
       "</table>\n",
       "</div>"
      ],
      "text/plain": [
       "      City Name  Latitude  Longitude  Temperature (F)  Max. Temp (F)  \\\n",
       "41    caravelas  -17.7125   -39.2481            72.21          72.21   \n",
       "130   cape town  -33.9258    18.4232            73.58          75.99   \n",
       "239       nizwa   22.9333    57.5333            74.84          74.84   \n",
       "300  wellington  -41.2866   174.7756            67.33          71.01   \n",
       "384      ouadda    8.0777    22.4007            79.30          79.30   \n",
       "461         sur   22.5667    59.5289            74.73          74.73   \n",
       "\n",
       "     Min. Temp (F)  Humidity (%)  Cloudiness (%)  Wind Speed (mph)  \\\n",
       "41           72.21            90               0              2.01   \n",
       "130          71.01            73               0              4.61   \n",
       "239          74.84            19               0              5.26   \n",
       "300          66.00            77               0              8.05   \n",
       "384          79.30            20               0              5.95   \n",
       "461          74.73            44               0              8.03   \n",
       "\n",
       "    Country Code          Date & Time  \n",
       "41            BR  14-01-2021 17:37:17  \n",
       "130           ZA  14-01-2021 17:25:42  \n",
       "239           OM  14-01-2021 17:41:43  \n",
       "300           NZ  14-01-2021 17:43:08  \n",
       "384           CF  14-01-2021 17:45:08  \n",
       "461           OM  14-01-2021 17:46:52  "
      ]
     },
     "metadata": {},
     "output_type": "display_data"
    }
   ],
   "source": [
    "cities_utemp_limit = cities_data[cities_data['Max. Temp (F)'] < 80]\n",
    "cities_ultemp_limit = cities_utemp_limit[cities_utemp_limit['Max. Temp (F)'] > 70]\n",
    "cities_ftemp_fws = cities_ultemp_limit[cities_ultemp_limit['Wind Speed (mph)'] < 10]\n",
    "cities_filtered = cities_ftemp_fws[cities_ftemp_fws['Cloudiness (%)'] == 0]\n",
    "display(cities_filtered)\n",
    "targ_rad = 5000"
   ]
  },
  {
   "cell_type": "markdown",
   "metadata": {},
   "source": [
    "### Create new DataFrame fitting weather criteria\n",
    "* Narrow down the cities to fit weather conditions.\n",
    "* Drop any rows will null values."
   ]
  },
  {
   "cell_type": "markdown",
   "metadata": {},
   "source": [
    "### Hotel Map\n",
    "* Store into variable named `hotel_df`.\n",
    "* Add a \"Hotel Name\" column to the DataFrame.\n",
    "* Set parameters to search for hotels with 5000 meters.\n",
    "* Hit the Google Places API for each city's coordinates.\n",
    "* Store the first Hotel result into the DataFrame.\n",
    "* Plot markers on top of the heatmap."
   ]
  },
  {
   "cell_type": "code",
   "execution_count": 4,
   "metadata": {},
   "outputs": [
    {
     "data": {
      "text/html": [
       "<div>\n",
       "<style scoped>\n",
       "    .dataframe tbody tr th:only-of-type {\n",
       "        vertical-align: middle;\n",
       "    }\n",
       "\n",
       "    .dataframe tbody tr th {\n",
       "        vertical-align: top;\n",
       "    }\n",
       "\n",
       "    .dataframe thead th {\n",
       "        text-align: right;\n",
       "    }\n",
       "</style>\n",
       "<table border=\"1\" class=\"dataframe\">\n",
       "  <thead>\n",
       "    <tr style=\"text-align: right;\">\n",
       "      <th></th>\n",
       "      <th>Latitude</th>\n",
       "      <th>Longitude</th>\n",
       "      <th>Restaurant (Eatery) Name</th>\n",
       "      <th>City</th>\n",
       "      <th>Country Code</th>\n",
       "    </tr>\n",
       "  </thead>\n",
       "  <tbody>\n",
       "    <tr>\n",
       "      <th>0</th>\n",
       "      <td>-17.736028</td>\n",
       "      <td>-39.262938</td>\n",
       "      <td>Restaurante Carenagem</td>\n",
       "      <td>caravelas</td>\n",
       "      <td>BR</td>\n",
       "    </tr>\n",
       "    <tr>\n",
       "      <th>1</th>\n",
       "      <td>-33.915763</td>\n",
       "      <td>18.423496</td>\n",
       "      <td>Southern Sun Waterfront Cape Town</td>\n",
       "      <td>cape town</td>\n",
       "      <td>ZA</td>\n",
       "    </tr>\n",
       "    <tr>\n",
       "      <th>2</th>\n",
       "      <td>22.932472</td>\n",
       "      <td>57.533966</td>\n",
       "      <td>Al-Mandi Al-Dhahabi Restaurant</td>\n",
       "      <td>nizwa</td>\n",
       "      <td>OM</td>\n",
       "    </tr>\n",
       "    <tr>\n",
       "      <th>3</th>\n",
       "      <td>-41.285861</td>\n",
       "      <td>174.774831</td>\n",
       "      <td>Travelodge Hotel Wellington</td>\n",
       "      <td>wellington</td>\n",
       "      <td>NZ</td>\n",
       "    </tr>\n",
       "    <tr>\n",
       "      <th>4</th>\n",
       "      <td>22.575852</td>\n",
       "      <td>59.502457</td>\n",
       "      <td>Pizza Hut</td>\n",
       "      <td>sur</td>\n",
       "      <td>OM</td>\n",
       "    </tr>\n",
       "  </tbody>\n",
       "</table>\n",
       "</div>"
      ],
      "text/plain": [
       "    Latitude   Longitude           Restaurant (Eatery) Name        City  \\\n",
       "0 -17.736028  -39.262938              Restaurante Carenagem   caravelas   \n",
       "1 -33.915763   18.423496  Southern Sun Waterfront Cape Town   cape town   \n",
       "2  22.932472   57.533966     Al-Mandi Al-Dhahabi Restaurant       nizwa   \n",
       "3 -41.285861  174.774831        Travelodge Hotel Wellington  wellington   \n",
       "4  22.575852   59.502457                          Pizza Hut         sur   \n",
       "\n",
       "  Country Code  \n",
       "0           BR  \n",
       "1           ZA  \n",
       "2           OM  \n",
       "3           NZ  \n",
       "4           OM  "
      ]
     },
     "metadata": {},
     "output_type": "display_data"
    }
   ],
   "source": [
    "final_rest_data = {'Latitude':[],\n",
    "                   'Longitude':[],\n",
    "                   'Restaurant (Eatery) Name':[],\n",
    "                   'City':[],\n",
    "                   'Country Code':[]\n",
    "                  }\n",
    "\n",
    "for index, row in cities_filtered.iterrows():\n",
    "    coordinates = str(row['Latitude']) + ', ' + str(row['Longitude'])\n",
    "    params = {\"location\": coordinates,\n",
    "              \"type\": \"restaurant\",\n",
    "              'radius': targ_rad,\n",
    "              \"key\": gkey\n",
    "             }\n",
    "    url = \"https://maps.googleapis.com/maps/api/place/nearbysearch/json\"\n",
    "    response = requests.get(url, params = params)\n",
    "    restaurants_places = response.json()\n",
    "    \n",
    "    try:\n",
    "        rest_data = restaurants_places['results'][0]\n",
    "        rs_nm = rest_data['name']\n",
    "        final_rest_data['Restaurant (Eatery) Name'].append(rest_data['name'])\n",
    "        final_rest_data['Latitude'].append(restaurants_places['results'][0]['geometry']['location']['lat'])\n",
    "        final_rest_data['Longitude'].append(restaurants_places['results'][0]['geometry']['location']['lng'])\n",
    "        final_rest_data['City'].append(row['City Name'])\n",
    "        final_rest_data['Country Code'].append(row['Country Code'])\n",
    "    except:\n",
    "        aaa = 0\n",
    "hotel_df = pd.DataFrame(final_rest_data)\n",
    "display(hotel_df)"
   ]
  },
  {
   "cell_type": "code",
   "execution_count": 5,
   "metadata": {
    "scrolled": true
   },
   "outputs": [
    {
     "data": {
      "application/vnd.jupyter.widget-view+json": {
       "model_id": "bd3946dd4e6d42a3b0b06def02254341",
       "version_major": 2,
       "version_minor": 0
      },
      "text/plain": [
       "Figure(layout=FigureLayout(height='420px'))"
      ]
     },
     "metadata": {},
     "output_type": "display_data"
    }
   ],
   "source": [
    "# NOTE: Do not change any of the code in this cell\n",
    "# Using the template, add the hotel marks to the heatmap\n",
    "info_box_template = \"\"\"\n",
    "<dl>\n",
    "<dt>Name</dt><dd>{Restaurant (Eatery) Name}</dd>\n",
    "<dt>City</dt><dd>{City}</dd>\n",
    "<dt>Country Code</dt><dd>{Country Code}</dd>\n",
    "</dl>\n",
    "\"\"\"\n",
    "# Store the DataFrame Row\n",
    "# NOTE: Be sure to update with your DataFrame name\n",
    "\n",
    "hotel_info_b = ['Name \\n' + row['Restaurant (Eatery) Name'] + '\\n City \\n' + row['City'] + '\\n Country \\n' + row['Country Code'] for index, row in hotel_df.iterrows()]\n",
    "hotel_info = [info_box_template.format(**row) for index, row in hotel_df.iterrows()]\n",
    "locations = hotel_df[[\"Latitude\", \"Longitude\"]]\n",
    "marker_layer = gmaps.marker_layer(locations, hover_text = hotel_info_b)\n",
    "fig = gmaps.figure(display_toolbar = True, center = (0.0, 0.0), display_errors = True, zoom_level = 1)\n",
    "#fig = gmaps.figure()\n",
    "fig.add_layer(marker_layer)\n",
    "embed_minimal_html(\"maps/map2.html\", views = [fig])\n",
    "fig"
   ]
  }
 ],
 "metadata": {
  "kernelspec": {
   "display_name": "Python 3",
   "language": "python",
   "name": "python3"
  },
  "language_info": {
   "codemirror_mode": {
    "name": "ipython",
    "version": 3
   },
   "file_extension": ".py",
   "mimetype": "text/x-python",
   "name": "python",
   "nbconvert_exporter": "python",
   "pygments_lexer": "ipython3",
   "version": "3.9.1"
  },
  "latex_envs": {
   "LaTeX_envs_menu_present": true,
   "autoclose": false,
   "autocomplete": true,
   "bibliofile": "biblio.bib",
   "cite_by": "apalike",
   "current_citInitial": 1,
   "eqLabelWithNumbers": true,
   "eqNumInitial": 1,
   "hotkeys": {
    "equation": "Ctrl-E",
    "itemize": "Ctrl-I"
   },
   "labels_anchors": false,
   "latex_user_defs": false,
   "report_style_numbering": false,
   "user_envs_cfg": false
  }
 },
 "nbformat": 4,
 "nbformat_minor": 4
}
